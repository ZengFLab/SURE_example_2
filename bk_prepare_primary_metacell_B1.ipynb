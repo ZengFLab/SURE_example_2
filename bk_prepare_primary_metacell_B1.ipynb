{
 "cells": [
  {
   "cell_type": "code",
   "execution_count": 1,
   "metadata": {},
   "outputs": [
    {
     "name": "stderr",
     "output_type": "stream",
     "text": [
      "/home/oem/anaconda3/envs/pyro/lib/python3.9/site-packages/pandas/core/arrays/masked.py:60: UserWarning: Pandas requires version '1.3.6' or newer of 'bottleneck' (version '1.3.5' currently installed).\n",
      "  from pandas.core import (\n"
     ]
    },
    {
     "data": {
      "text/html": [
       "<style type='text/css'>\n",
       ".datatable table.frame { margin-bottom: 0; }\n",
       ".datatable table.frame thead { border-bottom: none; }\n",
       ".datatable table.frame tr.coltypes td {  color: #FFFFFF;  line-height: 6px;  padding: 0 0.5em;}\n",
       ".datatable .bool    { background: #DDDD99; }\n",
       ".datatable .object  { background: #565656; }\n",
       ".datatable .int     { background: #5D9E5D; }\n",
       ".datatable .float   { background: #4040CC; }\n",
       ".datatable .str     { background: #CC4040; }\n",
       ".datatable .time    { background: #40CC40; }\n",
       ".datatable .row_index {  background: var(--jp-border-color3);  border-right: 1px solid var(--jp-border-color0);  color: var(--jp-ui-font-color3);  font-size: 9px;}\n",
       ".datatable .frame tbody td { text-align: left; }\n",
       ".datatable .frame tr.coltypes .row_index {  background: var(--jp-border-color0);}\n",
       ".datatable th:nth-child(2) { padding-left: 12px; }\n",
       ".datatable .hellipsis {  color: var(--jp-cell-editor-border-color);}\n",
       ".datatable .vellipsis {  background: var(--jp-layout-color0);  color: var(--jp-cell-editor-border-color);}\n",
       ".datatable .na {  color: var(--jp-cell-editor-border-color);  font-size: 80%;}\n",
       ".datatable .sp {  opacity: 0.25;}\n",
       ".datatable .footer { font-size: 9px; }\n",
       ".datatable .frame_dimensions {  background: var(--jp-border-color3);  border-top: 1px solid var(--jp-border-color0);  color: var(--jp-ui-font-color3);  display: inline-block;  opacity: 0.6;  padding: 1px 10px 1px 5px;}\n",
       "</style>\n"
      ],
      "text/plain": [
       "<IPython.core.display.HTML object>"
      ]
     },
     "metadata": {},
     "output_type": "display_data"
    }
   ],
   "source": [
    "import pandas as pd\n",
    "import numpy as np\n",
    "import scipy as sp\n",
    "import scanpy as sc\n",
    "\n",
    "import SEACells as sea \n",
    "\n",
    "import datatable as dt\n",
    "\n",
    "from sklearn.preprocessing import OneHotEncoder"
   ]
  },
  {
   "cell_type": "code",
   "execution_count": 2,
   "metadata": {},
   "outputs": [],
   "source": [
    "adata = sc.read_h5ad('GSE194122_openproblems_neurips2021_multiome_BMMC_processed.h5ad')"
   ]
  },
  {
   "cell_type": "code",
   "execution_count": null,
   "metadata": {},
   "outputs": [],
   "source": [
    "A=dt.fread('multiome_neurips21_B1_soft_assignments.txt.gz', header=True).to_pandas().set_index('index')\n",
    "A.columns = ['multiome_neurips21_B1_{}'.format(i) for i in A.columns]\n",
    "\n",
    "metacells = A.idxmax(axis=1)"
   ]
  },
  {
   "cell_type": "code",
   "execution_count": null,
   "metadata": {},
   "outputs": [],
   "source": [
    "\n",
    "adata = adata[metacells.index.tolist()]\n",
    "adata.obs['metacells'] = metacells[adata.obs_names]\n",
    "\n",
    "\n",
    "adata_metacells = sea.core.summarize_by_SEACell(adata, SEACells_label='metacells', celltype_label='cell_type', summarize_layer='counts')\n",
    "\n",
    "adata_metacells.obs['cell_type'] = adata.obs.groupby('metacells').apply(\n",
    "    lambda x: x['cell_type'].mode().iloc[0]\n",
    "    ).loc[adata_metacells.obs_names]\n",
    "\n",
    "adata_metacells.obs['Batch'] = 'B1'"
   ]
  },
  {
   "cell_type": "code",
   "execution_count": null,
   "metadata": {},
   "outputs": [],
   "source": [
    "adata_metacells.X = adata_metacells.layers['raw'].copy()\n",
    "\n",
    "sc.pp.normalize_total(adata_metacells, target_sum=1e4)\n",
    "sc.pp.log1p(adata_metacells)\n",
    "sc.pp.highly_variable_genes(adata_metacells, n_top_genes=2000, inplace=True)\n",
    "\n",
    "sc.tl.pca(adata_metacells, use_highly_variable=True)\n",
    "sc.pp.neighbors(adata_metacells, use_rep='X_pca')\n",
    "sc.tl.umap(adata_metacells)\n",
    "\n",
    "sc.pl.umap(adata_metacells, color='cell_type', palette='Set1', s=20)\n"
   ]
  },
  {
   "cell_type": "code",
   "execution_count": null,
   "metadata": {},
   "outputs": [],
   "source": [
    "adata_metacells.X = adata_metacells.layers['raw'].copy()\n",
    "adata_metacells.write_h5ad('multiome_neurips21_B1_metacells.h5ad')"
   ]
  }
 ],
 "metadata": {
  "kernelspec": {
   "display_name": "pyro",
   "language": "python",
   "name": "python3"
  },
  "language_info": {
   "codemirror_mode": {
    "name": "ipython",
    "version": 3
   },
   "file_extension": ".py",
   "mimetype": "text/x-python",
   "name": "python",
   "nbconvert_exporter": "python",
   "pygments_lexer": "ipython3",
   "version": "3.9.18"
  }
 },
 "nbformat": 4,
 "nbformat_minor": 2
}
